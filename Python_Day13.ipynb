{
 "cells": [
  {
   "cell_type": "code",
   "execution_count": 9,
   "id": "21ff8f2d-362c-4a0f-b9d2-7609d36f0d9e",
   "metadata": {},
   "outputs": [
    {
     "data": {
      "text/plain": [
       "9"
      ]
     },
     "execution_count": 9,
     "metadata": {},
     "output_type": "execute_result"
    }
   ],
   "source": [
    "#variable length\n",
    "#positional variable length\n",
    "#keyward variable length\n",
    "def addition(*numbers):\n",
    "    return sum(numbers)\n",
    "addition(2,3,4)"
   ]
  },
  {
   "cell_type": "code",
   "execution_count": 21,
   "id": "fbc9626b-06a2-40a9-910a-c58febd74599",
   "metadata": {},
   "outputs": [
    {
     "data": {
      "text/plain": [
       "9"
      ]
     },
     "execution_count": 21,
     "metadata": {},
     "output_type": "execute_result"
    }
   ],
   "source": [
    "def addition(*numbers):\n",
    "    sum = 0 \n",
    "    for num in numbers:\n",
    "        sum += num  \n",
    "    return sum  \n",
    "\n",
    "addition(2, 3, 4)\n"
   ]
  },
  {
   "cell_type": "code",
   "execution_count": 5,
   "id": "73fb676f-1cc5-499e-9d41-03f3db91aa22",
   "metadata": {},
   "outputs": [
    {
     "name": "stdout",
     "output_type": "stream",
     "text": [
      "name:suraj\n",
      "city:jaipur\n"
     ]
    }
   ],
   "source": [
    "def information(**info):\n",
    "    for key,value in info.items():\n",
    "        print(f'{key}:{value}')\n",
    "information(name=\"suraj\",city=\"jai\n",
    "pur\")"
   ]
  },
  {
   "cell_type": "code",
   "execution_count": 8,
   "id": "ca824221-9ee2-4414-acca-1570141a936d",
   "metadata": {},
   "outputs": [
    {
     "name": "stdout",
     "output_type": "stream",
     "text": [
      "name:ashu\n",
      "city:jaipur\n",
      "name2:vikram\n",
      "city2:alwar\n"
     ]
    }
   ],
   "source": [
    "def name_add(**info):\n",
    "    for key,value in info.items():\n",
    "        print(f'{key}:{value}')\n",
    "name_add(name='ashu',city='jaipur',name2='vikram',city2='alwar')"
   ]
  },
  {
   "cell_type": "code",
   "execution_count": 20,
   "id": "7d2f019f-266d-4800-87a7-627c7e2540c4",
   "metadata": {},
   "outputs": [],
   "source": [
    "#types of function \n",
    "#1. built in function : these are the function that are predefined by the python and can be used any time \n",
    "#ex:print(),len()\n",
    "\n",
    "#2. user defined function: these are the function that we to define by using def keyward\n",
    "#we form these function to reuse them anytime \n"
   ]
  },
  {
   "cell_type": "code",
   "execution_count": 22,
   "id": "cfde1729-33a9-40a8-afe2-3880296930d6",
   "metadata": {},
   "outputs": [],
   "source": [
    "#scope of variable \n",
    "#1. local vriable : local variable are these that are defined the function \n",
    "#ex: def Hello():\n",
    "# loacl variable can be accessed only inside a function \n",
    "    #x=5\n",
    "#here x is a local variable \n",
    "\n",
    "#2. global variable : global variable are those that are defined outside the function \n",
    "#ex: y=10\n",
    "# global variable can be accessed both inside and outside a funtion \n",
    "#    def Hello():\n",
    "    #x=5\n",
    "#here y is global variable "
   ]
  },
  {
   "cell_type": "code",
   "execution_count": 25,
   "id": "06aeda88-45a1-4b53-abfc-f4889a19d4ff",
   "metadata": {},
   "outputs": [
    {
     "name": "stdout",
     "output_type": "stream",
     "text": [
      "3 4 5 10\n"
     ]
    }
   ],
   "source": [
    "y=10\n",
    "def call(a,b):\n",
    "    x=5\n",
    "    print(a,b,x,y)\n",
    "call(3,4)"
   ]
  },
  {
   "cell_type": "code",
   "execution_count": 43,
   "id": "2c7ea5ee-cde6-4133-9558-12f611d44feb",
   "metadata": {},
   "outputs": [
    {
     "name": "stdout",
     "output_type": "stream",
     "text": [
      "5 10\n"
     ]
    }
   ],
   "source": [
    "y=10\n",
    "def my_finction1():\n",
    "    x=5\n",
    "    print(x,y)\n",
    "my_finction()\n"
   ]
  },
  {
   "cell_type": "code",
   "execution_count": 28,
   "id": "051d70ec-5700-4ac6-8378-a0f584587e04",
   "metadata": {},
   "outputs": [
    {
     "name": "stdout",
     "output_type": "stream",
     "text": [
      "3\n"
     ]
    }
   ],
   "source": [
    "y=8\n",
    "def my_function2():\n",
    "    y=3\n",
    "    print(y)\n",
    "my_function2()"
   ]
  },
  {
   "cell_type": "code",
   "execution_count": 29,
   "id": "27495942-cf02-4006-a5bc-5df684a5aafa",
   "metadata": {},
   "outputs": [
    {
     "name": "stdout",
     "output_type": "stream",
     "text": [
      "8\n"
     ]
    }
   ],
   "source": [
    "print(y)"
   ]
  },
  {
   "cell_type": "code",
   "execution_count": 31,
   "id": "11b1ba11-56e3-422c-bcb2-89d9ba6fed84",
   "metadata": {},
   "outputs": [
    {
     "name": "stdout",
     "output_type": "stream",
     "text": [
      "8\n"
     ]
    }
   ],
   "source": [
    "#conversion \n",
    "#global keywrd \n",
    "def my_function():\n",
    "    global x\n",
    "    x=8\n",
    "    print(x)\n",
    "my_function()"
   ]
  },
  {
   "cell_type": "code",
   "execution_count": 44,
   "id": "adf2845d-d8e0-452f-926e-427898e582bb",
   "metadata": {},
   "outputs": [
    {
     "name": "stdout",
     "output_type": "stream",
     "text": [
      "8\n"
     ]
    }
   ],
   "source": [
    "print(x)"
   ]
  },
  {
   "cell_type": "code",
   "execution_count": null,
   "id": "c506be43-6596-4c59-a918-1b0707f48ccf",
   "metadata": {},
   "outputs": [],
   "source": []
  }
 ],
 "metadata": {
  "kernelspec": {
   "display_name": "Python 3 (ipykernel)",
   "language": "python",
   "name": "python3"
  },
  "language_info": {
   "codemirror_mode": {
    "name": "ipython",
    "version": 3
   },
   "file_extension": ".py",
   "mimetype": "text/x-python",
   "name": "python",
   "nbconvert_exporter": "python",
   "pygments_lexer": "ipython3",
   "version": "3.10.11"
  }
 },
 "nbformat": 4,
 "nbformat_minor": 5
}
